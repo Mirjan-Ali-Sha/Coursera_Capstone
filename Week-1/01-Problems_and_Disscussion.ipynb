{
 "cells": [
  {
   "cell_type": "markdown",
   "metadata": {},
   "source": [
    "# A description of the Problem:\n",
    "### Background\n",
    "Since the invention of the automobile road and highways became one of the largest life takers as mortality rates are higher than ever in the past 10 years. Each year around 20-30 Million people get into a road accident in which around 10% of those lose their lives. Road accidents are a serious shame for our society and still we are not in a state to reduce it. Most of the innocent casualties are of the pedestrians , cyclists and the bikers and between the age of 20-35 yrs, the future of any country and the solo earners of a family. Naturally, a question to be asked is what is the cause of such a high percentage of car accidents.\n",
    "\n",
    "### Problem Description\n",
    "We have to gather old accident record and its severity for a place with other informations like location of accident, number of people involved, number of pedestrians, number of vehicles time and date of accident, way of accident, road condition, lighting and whether at place of accident and create a machine learning model with this data so that later if we pass the following details , the model can predict the severity to us.\n",
    "\n",
    "Predicting the data will help us to get cautious in advance and then it will be the person's choice to whether they should proceed on the same road with precaution or do a detour to a safer road.\n",
    "\n",
    "In this project we will try to predict Injury Collision and Property Damage Only Collision, this report are aim to stakeholders interested preventing and reducing injury collisions and Property Damage Only Collision."
   ]
  },
  {
   "cell_type": "code",
   "execution_count": null,
   "metadata": {},
   "outputs": [],
   "source": []
  }
 ],
 "metadata": {
  "kernelspec": {
   "display_name": "Python",
   "language": "python",
   "name": "conda-env-python-py"
  },
  "language_info": {
   "codemirror_mode": {
    "name": "ipython",
    "version": 3
   },
   "file_extension": ".py",
   "mimetype": "text/x-python",
   "name": "python",
   "nbconvert_exporter": "python",
   "pygments_lexer": "ipython3",
   "version": "3.6.11"
  }
 },
 "nbformat": 4,
 "nbformat_minor": 4
}
